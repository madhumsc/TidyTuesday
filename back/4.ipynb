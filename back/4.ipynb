{
 "cells": [
  {
   "cell_type": "code",
   "execution_count": 25,
   "metadata": {},
   "outputs": [
    {
     "ename": "AttributeError",
     "evalue": "'ggplot' object has no attribute '__radd__'",
     "output_type": "error",
     "traceback": [
      "\u001b[0;31m---------------------------------------------------------------------------\u001b[0m",
      "\u001b[0;31mAttributeError\u001b[0m                            Traceback (most recent call last)",
      "\u001b[1;32m/home/pr/Desktop/MSc/Source/TidyTuesday/final/4.ipynb Cell 1\u001b[0m line \u001b[0;36m3\n\u001b[1;32m     <a href='vscode-notebook-cell:/home/pr/Desktop/MSc/Source/TidyTuesday/final/4.ipynb#W4sZmlsZQ%3D%3D?line=27'>28</a>\u001b[0m plot_jobs \u001b[39m=\u001b[39m (\n\u001b[1;32m     <a href='vscode-notebook-cell:/home/pr/Desktop/MSc/Source/TidyTuesday/final/4.ipynb#W4sZmlsZQ%3D%3D?line=28'>29</a>\u001b[0m     ggplot(top_languages_jobs, aes(x\u001b[39m=\u001b[39m\u001b[39m'\u001b[39m\u001b[39mreorder(title, -number_of_jobs)\u001b[39m\u001b[39m'\u001b[39m, y\u001b[39m=\u001b[39m\u001b[39m'\u001b[39m\u001b[39mnumber_of_jobs\u001b[39m\u001b[39m'\u001b[39m, fill\u001b[39m=\u001b[39m\u001b[39m'\u001b[39m\u001b[39mtitle\u001b[39m\u001b[39m'\u001b[39m)) \u001b[39m+\u001b[39m\n\u001b[1;32m     <a href='vscode-notebook-cell:/home/pr/Desktop/MSc/Source/TidyTuesday/final/4.ipynb#W4sZmlsZQ%3D%3D?line=29'>30</a>\u001b[0m     geom_bar(stat\u001b[39m=\u001b[39m\u001b[39m'\u001b[39m\u001b[39midentity\u001b[39m\u001b[39m'\u001b[39m) \u001b[39m+\u001b[39m\n\u001b[1;32m     <a href='vscode-notebook-cell:/home/pr/Desktop/MSc/Source/TidyTuesday/final/4.ipynb#W4sZmlsZQ%3D%3D?line=30'>31</a>\u001b[0m     labs(title\u001b[39m=\u001b[39m\u001b[39m'\u001b[39m\u001b[39mTop 10 Programming Languages by Jobs\u001b[39m\u001b[39m'\u001b[39m, x\u001b[39m=\u001b[39m\u001b[39m'\u001b[39m\u001b[39mProgramming Language\u001b[39m\u001b[39m'\u001b[39m, y\u001b[39m=\u001b[39m\u001b[39m'\u001b[39m\u001b[39mNumber of Jobs\u001b[39m\u001b[39m'\u001b[39m) \u001b[39m+\u001b[39m\n\u001b[1;32m     <a href='vscode-notebook-cell:/home/pr/Desktop/MSc/Source/TidyTuesday/final/4.ipynb#W4sZmlsZQ%3D%3D?line=31'>32</a>\u001b[0m     theme(figure_size\u001b[39m=\u001b[39m(\u001b[39m15\u001b[39m, \u001b[39m5\u001b[39m))\n\u001b[1;32m     <a href='vscode-notebook-cell:/home/pr/Desktop/MSc/Source/TidyTuesday/final/4.ipynb#W4sZmlsZQ%3D%3D?line=32'>33</a>\u001b[0m )\n\u001b[1;32m     <a href='vscode-notebook-cell:/home/pr/Desktop/MSc/Source/TidyTuesday/final/4.ipynb#W4sZmlsZQ%3D%3D?line=34'>35</a>\u001b[0m \u001b[39m# Arrange the two plots side by side using facet_grid\u001b[39;00m\n\u001b[1;32m     <a href='vscode-notebook-cell:/home/pr/Desktop/MSc/Source/TidyTuesday/final/4.ipynb#W4sZmlsZQ%3D%3D?line=35'>36</a>\u001b[0m combined_plot \u001b[39m=\u001b[39m (\n\u001b[0;32m---> <a href='vscode-notebook-cell:/home/pr/Desktop/MSc/Source/TidyTuesday/final/4.ipynb#W4sZmlsZQ%3D%3D?line=36'>37</a>\u001b[0m     ggplot() \u001b[39m+\u001b[39;49m\n\u001b[1;32m     <a href='vscode-notebook-cell:/home/pr/Desktop/MSc/Source/TidyTuesday/final/4.ipynb#W4sZmlsZQ%3D%3D?line=37'>38</a>\u001b[0m     plot_users \u001b[39m+\u001b[39m facet_grid(\u001b[39m'\u001b[39m\u001b[39m. ~ facet\u001b[39m\u001b[39m'\u001b[39m, scales\u001b[39m=\u001b[39m\u001b[39m'\u001b[39m\u001b[39mfree_y\u001b[39m\u001b[39m'\u001b[39m) \u001b[39m+\u001b[39m\n\u001b[1;32m     <a href='vscode-notebook-cell:/home/pr/Desktop/MSc/Source/TidyTuesday/final/4.ipynb#W4sZmlsZQ%3D%3D?line=38'>39</a>\u001b[0m     plot_jobs \u001b[39m+\u001b[39m facet_grid(\u001b[39m'\u001b[39m\u001b[39m. ~ facet\u001b[39m\u001b[39m'\u001b[39m, scales\u001b[39m=\u001b[39m\u001b[39m'\u001b[39m\u001b[39mfree_y\u001b[39m\u001b[39m'\u001b[39m)\n\u001b[1;32m     <a href='vscode-notebook-cell:/home/pr/Desktop/MSc/Source/TidyTuesday/final/4.ipynb#W4sZmlsZQ%3D%3D?line=39'>40</a>\u001b[0m )\n\u001b[1;32m     <a href='vscode-notebook-cell:/home/pr/Desktop/MSc/Source/TidyTuesday/final/4.ipynb#W4sZmlsZQ%3D%3D?line=41'>42</a>\u001b[0m \u001b[39m# Show the combined plot\u001b[39;00m\n\u001b[1;32m     <a href='vscode-notebook-cell:/home/pr/Desktop/MSc/Source/TidyTuesday/final/4.ipynb#W4sZmlsZQ%3D%3D?line=42'>43</a>\u001b[0m \u001b[39mprint\u001b[39m(combined_plot)\n",
      "File \u001b[0;32m~/.local/lib/python3.10/site-packages/plotnine/ggplot.py:180\u001b[0m, in \u001b[0;36mggplot.__add__\u001b[0;34m(self, other)\u001b[0m\n\u001b[1;32m    170\u001b[0m \u001b[39m\u001b[39m\u001b[39m\"\"\"\u001b[39;00m\n\u001b[1;32m    171\u001b[0m \u001b[39mAdd to ggplot from a list\u001b[39;00m\n\u001b[1;32m    172\u001b[0m \n\u001b[0;32m   (...)\u001b[0m\n\u001b[1;32m    177\u001b[0m \u001b[39m    itself to a ggplot, or a list of such objects.\u001b[39;00m\n\u001b[1;32m    178\u001b[0m \u001b[39m\"\"\"\u001b[39;00m\n\u001b[1;32m    179\u001b[0m \u001b[39mself\u001b[39m \u001b[39m=\u001b[39m deepcopy(\u001b[39mself\u001b[39m)\n\u001b[0;32m--> 180\u001b[0m \u001b[39mreturn\u001b[39;00m \u001b[39mself\u001b[39;49m\u001b[39m.\u001b[39;49m\u001b[39m__iadd__\u001b[39;49m(other)\n",
      "File \u001b[0;32m~/.local/lib/python3.10/site-packages/plotnine/ggplot.py:167\u001b[0m, in \u001b[0;36mggplot.__iadd__\u001b[0;34m(self, other)\u001b[0m\n\u001b[1;32m    165\u001b[0m     \u001b[39mreturn\u001b[39;00m \u001b[39mself\u001b[39m\n\u001b[1;32m    166\u001b[0m \u001b[39melse\u001b[39;00m:\n\u001b[0;32m--> 167\u001b[0m     \u001b[39mreturn\u001b[39;00m other\u001b[39m.\u001b[39;49m\u001b[39m__radd__\u001b[39;49m(\u001b[39mself\u001b[39m)\n",
      "\u001b[0;31mAttributeError\u001b[0m: 'ggplot' object has no attribute '__radd__'"
     ]
    }
   ],
   "source": [
    "from plotnine import ggplot, aes, geom_bar, labs, theme, facet_grid\n",
    "import pandas as pd\n",
    "\n",
    "url = \"https://raw.githubusercontent.com/rfordatascience/tidytuesday/master/data/2023/2023-03-21/languages.csv\"\n",
    "language_by_user_df = pd.read_csv(url)\n",
    "\n",
    "# Assuming you have the DataFrame named 'language_by_user_df' with the relevant columns\n",
    "\n",
    "# Filter out rows with NaN values in 'number_of_jobs' and 'number_of_users' columns\n",
    "language_by_user_df = language_by_user_df.dropna(subset=['number_of_jobs', 'number_of_users'])\n",
    "\n",
    "# Sort the DataFrame by 'number_of_jobs' and 'number_of_users' in descending order\n",
    "language_by_user_df = language_by_user_df.sort_values(by=['number_of_jobs', 'number_of_users'], ascending=False)\n",
    "\n",
    "# Keep the top 10 programming languages for both users and jobs\n",
    "top_languages_users = language_by_user_df.head(10).copy()\n",
    "top_languages_jobs = language_by_user_df.head(10).copy()\n",
    "\n",
    "# Create a bar plot using plotnine for the number of users\n",
    "plot_users = (\n",
    "    ggplot(top_languages_users, aes(x='reorder(title, -number_of_users)', y='number_of_users', fill='title')) +\n",
    "    geom_bar(stat='identity') +\n",
    "    labs(title='Top 10 Programming Languages by User Base', x='Programming Language', y='Number of Users') +\n",
    "    theme(figure_size=(15, 5))\n",
    ")\n",
    "\n",
    "# Create a bar plot using plotnine for the number of jobs\n",
    "plot_jobs = (\n",
    "    ggplot(top_languages_jobs, aes(x='reorder(title, -number_of_jobs)', y='number_of_jobs', fill='title')) +\n",
    "    geom_bar(stat='identity') +\n",
    "    labs(title='Top 10 Programming Languages by Jobs', x='Programming Language', y='Number of Jobs') +\n",
    "    theme(figure_size=(15, 5))\n",
    ")\n",
    "\n",
    "# Arrange the two plots side by side using facet_grid\n",
    "combined_plot = (\n",
    "    ggplot() +\n",
    "    plot_users + facet_grid('. ~ facet', scales='free_y') +\n",
    "    plot_jobs + facet_grid('. ~ facet', scales='free_y')\n",
    ")\n",
    "\n",
    "# Show the combined plot\n",
    "print(combined_plot)\n"
   ]
  },
  {
   "cell_type": "code",
   "execution_count": 33,
   "metadata": {},
   "outputs": [
    {
     "ename": "ModuleNotFoundError",
     "evalue": "No module named 'grid_extra'",
     "output_type": "error",
     "traceback": [
      "\u001b[0;31m---------------------------------------------------------------------------\u001b[0m",
      "\u001b[0;31mModuleNotFoundError\u001b[0m                       Traceback (most recent call last)",
      "\u001b[1;32m/home/pr/Desktop/MSc/Source/TidyTuesday/final/4.ipynb Cell 2\u001b[0m line \u001b[0;36m2\n\u001b[1;32m      <a href='vscode-notebook-cell:/home/pr/Desktop/MSc/Source/TidyTuesday/final/4.ipynb#W1sZmlsZQ%3D%3D?line=0'>1</a>\u001b[0m \u001b[39mfrom\u001b[39;00m \u001b[39mplotnine\u001b[39;00m \u001b[39mimport\u001b[39;00m ggplot, aes, geom_bar, labs, theme\n\u001b[0;32m----> <a href='vscode-notebook-cell:/home/pr/Desktop/MSc/Source/TidyTuesday/final/4.ipynb#W1sZmlsZQ%3D%3D?line=1'>2</a>\u001b[0m \u001b[39mfrom\u001b[39;00m \u001b[39mgrid_extra\u001b[39;00m \u001b[39mimport\u001b[39;00m grid_arrange\n\u001b[1;32m      <a href='vscode-notebook-cell:/home/pr/Desktop/MSc/Source/TidyTuesday/final/4.ipynb#W1sZmlsZQ%3D%3D?line=3'>4</a>\u001b[0m \u001b[39mimport\u001b[39;00m \u001b[39mpandas\u001b[39;00m \u001b[39mas\u001b[39;00m \u001b[39mpd\u001b[39;00m\n\u001b[1;32m      <a href='vscode-notebook-cell:/home/pr/Desktop/MSc/Source/TidyTuesday/final/4.ipynb#W1sZmlsZQ%3D%3D?line=5'>6</a>\u001b[0m url \u001b[39m=\u001b[39m \u001b[39m\"\u001b[39m\u001b[39mhttps://raw.githubusercontent.com/rfordatascience/tidytuesday/master/data/2023/2023-03-21/languages.csv\u001b[39m\u001b[39m\"\u001b[39m\n",
      "\u001b[0;31mModuleNotFoundError\u001b[0m: No module named 'grid_extra'"
     ]
    }
   ],
   "source": [
    "from plotnine import ggplot, aes, geom_bar, labs, theme\n",
    "from grid_extra import grid_arrange\n",
    "\n",
    "import pandas as pd\n",
    "\n",
    "url = \"https://raw.githubusercontent.com/rfordatascience/tidytuesday/master/data/2023/2023-03-21/languages.csv\"\n",
    "language_by_user_df = pd.read_csv(url)\n",
    "\n",
    "# Assuming you have the DataFrame named 'language_by_user_df' with the relevant columns\n",
    "\n",
    "# Filter out rows with NaN values in 'number_of_jobs' and 'number_of_users' columns\n",
    "language_by_user_df = language_by_user_df.dropna(subset=['number_of_jobs', 'number_of_users'])\n",
    "\n",
    "# Sort the DataFrame by 'number_of_jobs' and 'number_of_users' in descending order\n",
    "language_by_user_df = language_by_user_df.sort_values(by=['number_of_jobs', 'number_of_users'], ascending=False)\n",
    "\n",
    "# Keep the top 10 programming languages for both users and jobs\n",
    "top_languages_users = language_by_user_df.head(10).copy()\n",
    "top_languages_jobs = language_by_user_df.head(10).copy()\n",
    "\n",
    "# Create a bar plot using plotnine for the number of users\n",
    "plot_users = (\n",
    "    ggplot(top_languages_users, aes(x='reorder(title, -number_of_users)', y='number_of_users', fill='title')) +\n",
    "    geom_bar(stat='identity') +\n",
    "    labs(title='Top 10 Programming Languages by User Base', x='Programming Language', y='Number of Users') +\n",
    "    theme(figure_size=(15, 5))\n",
    ")\n",
    "\n",
    "# Create a bar plot using plotnine for the number of jobs\n",
    "plot_jobs = (\n",
    "    ggplot(top_languages_jobs, aes(x='reorder(title, -number_of_jobs)', y='number_of_jobs', fill='title')) +\n",
    "    geom_bar(stat='identity') +\n",
    "    labs(title='Top 10 Programming Languages by Jobs', x='Programming Language', y='Number of Jobs') +\n",
    "    theme(figure_size=(15, 5))\n",
    ")\n",
    "\n",
    "# Arrange the two plots side by side using grid_arrange\n",
    "combined_plot = grid_arrange(plot_users, plot_jobs, ncol=2)\n",
    "\n",
    "# Show the combined plot\n",
    "print(combined_plot)\n"
   ]
  },
  {
   "cell_type": "markdown",
   "metadata": {},
   "source": []
  },
  {
   "cell_type": "code",
   "execution_count": 32,
   "metadata": {},
   "outputs": [
    {
     "name": "stdout",
     "output_type": "stream",
     "text": [
      "Defaulting to user installation because normal site-packages is not writeable\n",
      "\u001b[31mERROR: Could not find a version that satisfies the requirement grid_extra (from versions: none)\u001b[0m\u001b[31m\n",
      "\u001b[0m\u001b[31mERROR: No matching distribution found for grid_extra\u001b[0m\u001b[31m\n",
      "\u001b[0m"
     ]
    }
   ],
   "source": [
    "!pip install grid_extra"
   ]
  },
  {
   "cell_type": "code",
   "execution_count": 35,
   "metadata": {},
   "outputs": [
    {
     "name": "stdout",
     "output_type": "stream",
     "text": [
      "Original DataFrame:\n",
      "  language  number_of_jobs  number_of_users\n",
      "0   Python             100               50\n",
      "1     Java              32               40\n",
      "2      C++             120               60\n",
      "3   Python              90               45\n",
      "4     Java             110               55\n",
      "5      C++              95               48\n",
      "\n",
      "Sorted DataFrame:\n",
      "  language  number_of_jobs  number_of_users\n",
      "2      C++             120               60\n",
      "4     Java             110               55\n",
      "0   Python             100               50\n",
      "5      C++              95               48\n",
      "3   Python              90               45\n",
      "1     Java              32               40\n"
     ]
    }
   ],
   "source": [
    "    import pandas as pd\n",
    "\n",
    "    # Creating a sample DataFrame\n",
    "    data = {\n",
    "        'language': ['Python', 'Java', 'C++', 'Python', 'Java', 'C++'],\n",
    "        'number_of_jobs': [100, 32, 120, 90, 110, 95],\n",
    "        'number_of_users': [50, 40, 60, 45, 55, 48]\n",
    "    }\n",
    "\n",
    "    language_by_user_df = pd.DataFrame(data)\n",
    "\n",
    "    # Displaying the original DataFrame\n",
    "    print(\"Original DataFrame:\")\n",
    "    print(language_by_user_df)\n",
    "\n",
    "    # Sorting the DataFrame based on 'number_of_jobs' and 'number_of_users'\n",
    "    language_by_user_df = language_by_user_df.sort_values(by=['number_of_jobs', 'number_of_users'], ascending=False)\n",
    "\n",
    "    # Displaying the sorted DataFrame\n",
    "    print(\"\\nSorted DataFrame:\")\n",
    "    print(language_by_user_df)\n",
    "\n",
    "\n",
    "    seperatly sort , and pic top 3 endividially , with that 6 both of 3 top records need to be there"
   ]
  },
  {
   "cell_type": "code",
   "execution_count": 36,
   "metadata": {},
   "outputs": [
    {
     "name": "stdout",
     "output_type": "stream",
     "text": [
      "Original DataFrame:\n",
      "  language  number_of_jobs  number_of_users\n",
      "0   Python             100               50\n",
      "1     Java              32               40\n",
      "2      C++             120               60\n",
      "3   Python              90               45\n",
      "4     Java             110               55\n",
      "5      C++              95               48\n",
      "\n",
      "Top 3 records based on 'number_of_jobs':\n",
      "  language  number_of_jobs  number_of_users\n",
      "2      C++             120               60\n",
      "4     Java             110               55\n",
      "0   Python             100               50\n",
      "\n",
      "Top 3 records based on 'number_of_users':\n",
      "  language  number_of_jobs  number_of_users\n",
      "2      C++             120               60\n",
      "4     Java             110               55\n",
      "0   Python             100               50\n",
      "\n",
      "Combined top 3 records:\n",
      "  language  number_of_jobs  number_of_users\n",
      "2      C++             120               60\n",
      "4     Java             110               55\n",
      "0   Python             100               50\n"
     ]
    }
   ],
   "source": [
    "import pandas as pd\n",
    "\n",
    "# Creating a sample DataFrame\n",
    "data = {\n",
    "    'language': ['Python', 'Java', 'C++', 'Python', 'Java', 'C++'],\n",
    "    'number_of_jobs': [100, 32, 120, 90, 110, 95],\n",
    "    'number_of_users': [50, 40, 1, 45, 55, 48]\n",
    "}\n",
    "\n",
    "language_by_user_df = pd.DataFrame(data)\n",
    "\n",
    "# Displaying the original DataFrame\n",
    "print(\"Original DataFrame:\")\n",
    "print(language_by_user_df)\n",
    "\n",
    "# Sorting the DataFrame based on 'number_of_jobs' and picking top 3\n",
    "sorted_by_jobs = language_by_user_df.sort_values(by='number_of_jobs', ascending=False).head(3)\n",
    "\n",
    "# Sorting the DataFrame based on 'number_of_users' and picking top 3\n",
    "sorted_by_users = language_by_user_df.sort_values(by='number_of_users', ascending=False).head(3)\n",
    "\n",
    "# Combining the top 3 from both sorts\n",
    "combined_top_3 = pd.concat([sorted_by_jobs, sorted_by_users]).drop_duplicates()\n",
    "\n",
    "# Displaying the sorted DataFrames and combined result\n",
    "print(\"\\nTop 3 records based on 'number_of_jobs':\")\n",
    "print(sorted_by_jobs)\n",
    "\n",
    "print(\"\\nTop 3 records based on 'number_of_users':\")\n",
    "print(sorted_by_users)\n",
    "\n",
    "print(\"\\nCombined top 3 records:\")\n",
    "print(combined_top_3)\n"
   ]
  },
  {
   "cell_type": "code",
   "execution_count": null,
   "metadata": {},
   "outputs": [],
   "source": []
  }
 ],
 "metadata": {
  "kernelspec": {
   "display_name": "Python 3",
   "language": "python",
   "name": "python3"
  },
  "language_info": {
   "codemirror_mode": {
    "name": "ipython",
    "version": 3
   },
   "file_extension": ".py",
   "mimetype": "text/x-python",
   "name": "python",
   "nbconvert_exporter": "python",
   "pygments_lexer": "ipython3",
   "version": "3.10.12"
  }
 },
 "nbformat": 4,
 "nbformat_minor": 2
}
